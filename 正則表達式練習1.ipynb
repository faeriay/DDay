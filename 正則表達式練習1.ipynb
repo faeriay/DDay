{
 "cells": [
  {
   "cell_type": "code",
   "execution_count": 24,
   "metadata": {
    "collapsed": false
   },
   "outputs": [
    {
     "data": {
      "text/plain": [
       "False"
      ]
     },
     "execution_count": 24,
     "metadata": {},
     "output_type": "execute_result"
    }
   ],
   "source": [
    "# -*- utf-8 -*-\n",
    "import re\n",
    "str_n = 'a1'\n",
    "re.search('[a1]$',str_n)!= None\n"
   ]
  },
  {
   "cell_type": "markdown",
   "metadata": {},
   "source": [
    "# 萬惡win os 的路徑正則表示法"
   ]
  },
  {
   "cell_type": "code",
   "execution_count": null,
   "metadata": {
    "collapsed": true
   },
   "outputs": [],
   "source": [
    "import re\n",
    "s = u'E:\\iii_DataSet\\Case\\WFAnalyze\\100_87_11_493_890131.txt'\n",
    "\n",
    "mm =re.search(r'(\\w*)\\.txt',s)\n",
    "#m = re.search(r'[^\\\\]*\\.txt',filename).group(0)\n",
    "#mm =re.search(r'([^\\\\/:*?\"<>|\\r\\n]+?)\\.txt',s)\n",
    "\n",
    "print mm.group(1)"
   ]
  },
  {
   "cell_type": "code",
   "execution_count": 10,
   "metadata": {
    "collapsed": false
   },
   "outputs": [],
   "source": [
    "# -*- utf-8 -*-\n",
    "import re\n",
    "import glob\n",
    "import _uniout \n",
    "dir_path =\"./jurybook/unknown/*.txt\"\n",
    "\n",
    "for ele in glob.glob(dir_path):\n",
    "    #mm =re.search(r'(\\w*)\\.txt',ele)\n",
    "    mm =re.search(r'([^\\\\/:*?\"<>|\\r\\n]+?)\\.txt',ele)\n",
    "    #print mm.group(1)\n",
    "    f = open('testlist.txt','w')\n",
    "    f.write(mm.group(1))\n",
    "    f.close()\n",
    "    \n",
    "    \n"
   ]
  },
  {
   "cell_type": "markdown",
   "metadata": {},
   "source": [
    "# 正則的貪婪與回溯概念"
   ]
  },
  {
   "cell_type": "code",
   "execution_count": null,
   "metadata": {
    "collapsed": true
   },
   "outputs": [],
   "source": [
    "import re\n",
    "s = u'ＢＡＤＭＩＮＴＯＮ　ＣＯＵＲＴ（ＮＯＢＯＤＹ　ＢＵＴ　ＹＯＵ）'\n",
    "x = s.encode('utf8')\n",
    "\n",
    "m = re.search(u'([^（]+)',s).group(1)\n",
    "y = re.search(u'([^（]+)',x).group(1)\n",
    "print type(s)\n",
    "print type(x)\n",
    "print m\n",
    "print y\n",
    "\n",
    "n = re.search(u'(.*)[^（]+',s)\n",
    "#print n.group(1)"
   ]
  }
 ],
 "metadata": {
  "kernelspec": {
   "display_name": "Python 2",
   "language": "python",
   "name": "python2"
  },
  "language_info": {
   "codemirror_mode": {
    "name": "ipython",
    "version": 2
   },
   "file_extension": ".py",
   "mimetype": "text/x-python",
   "name": "python",
   "nbconvert_exporter": "python",
   "pygments_lexer": "ipython2",
   "version": "2.7.10"
  }
 },
 "nbformat": 4,
 "nbformat_minor": 0
}
