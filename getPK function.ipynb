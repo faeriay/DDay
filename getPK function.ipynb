{
 "cells": [
  {
   "cell_type": "markdown",
   "metadata": {},
   "source": [
    "# 先檢驗裁判類型，如判決、裁定等"
   ]
  },
  {
   "cell_type": "code",
   "execution_count": 134,
   "metadata": {
    "collapsed": false
   },
   "outputs": [
    {
     "name": "stdout",
     "output_type": "stream",
     "text": [
      "判決 43\n"
     ]
    }
   ],
   "source": [
    "# -*- utf-8 -*-\n",
    "import os\n",
    "import re\n",
    "import codecs  #強制轉成utf-8\n",
    "import glob\n",
    "dir_path = u'./jurybook/unknown_judge/*.txt'\n",
    "dic = {}\n",
    "for txtfile in glob.glob(dir_path):\n",
    "    with codecs.open(txtfile,'r','utf-8') as f :\n",
    "        content = f.read() # 不能圖超過 2Mb\n",
    "        f.close() # 在with 中 可不寫,會強制關閉\n",
    "    try:\n",
    "        m_judge = re.search(u'[  \\d]*(灣|福建|臺灣|台灣|臺彎|褔建)(\\S{4,7})法院(民事|家事|暫時|支付)(\\S{2})',content)\n",
    "        judgetype = m_judge.group(4)   \n",
    "        if judgetype not in dic:\n",
    "            dic[judgetype] = 1\n",
    "        else:\n",
    "            dic[judgetype] = dic[judgetype] +1\n",
    "    except:\n",
    "        pass\n",
    "#統計各個判決類型的數量\n",
    "for ele in dic:\n",
    "    print ele,dic[ele]\n",
    "    #if dic[ele]>1:"
   ]
  },
  {
   "cell_type": "markdown",
   "metadata": {},
   "source": [
    "#先檢驗例外的裁判字號"
   ]
  },
  {
   "cell_type": "code",
   "execution_count": 137,
   "metadata": {
    "collapsed": false
   },
   "outputs": [],
   "source": [
    "# -*- utf-8 -*-\n",
    "import os \n",
    "import re\n",
    "import codecs  #強制轉成utf-8\n",
    "import glob\n",
    "dir_path = u'./jurybook/unknown_judge/*.txt'\n",
    "for txtfile in glob.glob(dir_path):\n",
    "    with codecs.open(txtfile,'r','utf-8') as f :\n",
    "        content = f.read() # 不能圖超過 2Mb\n",
    "        f.close() # 在with 中 可不寫,會強制關閉\n",
    "        m_ch = re.search(u'(【裁判字號】)(.*?),(.*?),(.*?)[^【】 ]',content)\n",
    "        no_jurytype = [u\"婚\",u\"婚再\",u\"婚更\",u\"家聲\",u\"家訴\",u\"家抗\",u\"家陸許\",u\"司家聲\",u\"基家簡\",u\"重家訴\",u\"婚更一\",u\"婚更(一)\",u\"司家調\",u\"家移調\",u\"家簡\",u\"家調裁\",u\"家查\",u\"家聲抗\",u\"家調裁\",u\"家調補\",u\"司家補\",u\"家親聲\",u\"司家簡調\",u\"家簡上\",u\"家小\",u\"家救\",u\"家小上\",u\"家婚聲\",u\"家再\",u\"家他\",u\"補\",u\"訴\",u\"重訴\",u\"家續\",u\"審訴\",u\"聲\"]\n",
    "        try:\n",
    "            if m_ch.group(3) not in no_jurytype:\n",
    "                print m_ch.group(3)\n",
    "        except:\n",
    "            err = re.search(u'(.*)/(.*?).txt',txtfile)\n",
    "            print 'errfile: '+errfile.group(2)\n",
    "            print txtfile"
   ]
  },
  {
   "cell_type": "markdown",
   "metadata": {},
   "source": [
    "# 先校正裁判書「地方法院」錯字"
   ]
  },
  {
   "cell_type": "code",
   "execution_count": 138,
   "metadata": {
    "collapsed": false
   },
   "outputs": [],
   "source": [
    "# -*- utf-8 -*-\n",
    "import os \n",
    "import re\n",
    "import codecs  #強制轉成utf-8\n",
    "import glob\n",
    "\n",
    "#dir_path = u'./*.txt'\n",
    "dir_path = u'./jurybook/unknown_judge/*.txt'\n",
    "for txtfile in glob.glob(dir_path):\n",
    "    with codecs.open(txtfile,'r+','utf-8') as f :\n",
    "        \n",
    "        try:\n",
    "            content = f.read()\n",
    "            m_court = re.search(u'[  \\d]*(灣|福建|臺灣|台灣|臺彎|褔建)(\\S{4,7})法院(民事|家事|暫時|支付)(\\S{2})',content)\n",
    "                #court_no = [u\"臺北地方\",u\"士林地方\",u\"新北地方\",u\"宜蘭地方\",u\"基隆地方\",u\"桃園地方\",u\"新竹地方\",u\"苗栗地方\",u\"臺中地方\",u\"彰化地方\",u\"南投地方\",u\"臺南地方\",u\"高雄地方\",u\"花蓮地方\",u\"雲林地方\",u\"嘉義地方\",u\"臺東地方\",u\"屏東地方\",u\"澎湖地方\",u\"福建金門\",u\"福建連江\",u\"高雄少年\"]\n",
    "            if m_court.group(2) == u'台北地方':\n",
    "                modify = re.sub(u'[  \\d]*(灣|福建|臺灣|台灣)(\\S{4,7})法院',u'臺灣臺北地方法院',content)\n",
    "                #modify = content.replace(u'台北',u'臺北').replace(u'板橋',u'新北')\n",
    "            elif m_court.group(2) == u'板橋地方':\n",
    "                modify = re.sub(u'[  \\d]*(灣|福建|臺灣|台灣|臺彎)(\\S{4,7})法院',u'臺灣新北地方法院',content)\n",
    "            elif m_court.group(2) == u'台中地方':\n",
    "                modify = re.sub(u'[  \\d]*(灣|福建|臺灣|台灣|臺彎)(\\S{4,7})法院',u'臺灣臺中地方法院',content)\n",
    "            elif m_court.group(2) == u'台東地方':\n",
    "                modify = re.sub(u'[  \\d]*(灣|福建|臺灣|台灣|臺彎)(\\S{4,7})法院',u'臺灣臺東地方法院',content)\n",
    "            elif m_court.group(2) == u'褔建連江':\n",
    "                modify = re.sub(u'[  \\d]*(灣|福建|臺灣|台灣|臺彎|褔建)(\\S{4,7})法院',u'福建連江地方法院',content)\n",
    "            elif m_court.group(2) == u'台南地方':\n",
    "                modify = re.sub(u'[  \\d]*(灣|福建|臺灣|台灣|臺彎|褔建)(\\S{4,7})法院',u'福建連江地方法院',content)\n",
    "            else:\n",
    "                modify = content\n",
    "            f.seek(0)\n",
    "            f.write(modify)\n",
    "            f.truncate()\n",
    "            f.close()\n",
    "        except:\n",
    "            f.close()\n",
    "            print txtfile\n",
    "            pass\n",
    "        \n"
   ]
  },
  {
   "cell_type": "markdown",
   "metadata": {},
   "source": [
    "# 先檢驗例外的地方法院"
   ]
  },
  {
   "cell_type": "code",
   "execution_count": 139,
   "metadata": {
    "collapsed": false
   },
   "outputs": [],
   "source": [
    "# -*- utf-8 -*-\n",
    "import os \n",
    "import re\n",
    "import codecs  #強制轉成utf-8\n",
    "import glob\n",
    "dir_path = u'./jurybook/unknown_judge/*.txt'\n",
    "for txtfile in glob.glob(dir_path):\n",
    "    with codecs.open(txtfile,'r','utf-8') as f :\n",
    "        content = f.read() # 不能圖超過 2Mb\n",
    "        f.close() # 在with 中 可不寫,會強制關閉\n",
    "        m_court = re.search(u'[  \\d]*(灣|福建|臺灣)(\\S{4,7})法院(民事|家事|暫時|支付)(\\S{2})',content)\n",
    "        court_no = [u\"臺北地方\",u\"士林地方\",u\"新北地方\",u\"宜蘭地方\",u\"基隆地方\",u\"桃園地方\",u\"新竹地方\",u\"苗栗地方\",u\"臺中地方\",u\"彰化地方\",u\"南投地方\",u\"臺南地方\",u\"高雄地方\",u\"花蓮地方\",u\"雲林地方\",u\"嘉義地方\",u\"臺東地方\",u\"屏東地方\",u\"澎湖地方\",u\"金門地方\",u\"連江地方\",u\"高雄少年及家事\"]\n",
    "        try:\n",
    "            if m_court.group(2) not in court_no:\n",
    "                print \"ExcepCourtNo: \"+m_court.group(2)\n",
    "                print txtfile\n",
    "        except:\n",
    "            #errfile = re.search(u'(.*)/(.*?).txt',txtfile)\n",
    "            print 'errfile: '+txtfile"
   ]
  },
  {
   "cell_type": "markdown",
   "metadata": {},
   "source": [
    "# 轉換成PK編碼"
   ]
  },
  {
   "cell_type": "code",
   "execution_count": 144,
   "metadata": {
    "collapsed": false,
    "scrolled": true
   },
   "outputs": [
    {
     "name": "stdout",
     "output_type": "stream",
     "text": [
      "602_102_11_245_1030401\n",
      "602_97_11_45_970416\n",
      "111_93_11_139_940104\n",
      "111_93_11_437_940426\n",
      "111_98_11_100_981231\n",
      "111_98_11_127_981231\n",
      "111_98_11_129_981231\n",
      "111_98_11_148_981231\n",
      "111_98_11_160_981231\n",
      "111_98_11_164_981231\n",
      "111_98_11_171_990111\n",
      "111_98_11_179_981231\n",
      "111_98_11_182_981231\n",
      "111_98_11_192_981231\n",
      "111_98_11_197_981231\n",
      "111_98_11_211_981231\n",
      "111_98_11_238_981231\n",
      "111_98_11_253_981231\n",
      "111_98_11_312_981231\n",
      "111_98_11_325_981231\n",
      "220_101_11_661_1011214\n",
      "220_102_11_762_1040226\n",
      "220_88_11_777_890720\n",
      "220_89_11_555_891219\n",
      "220_89_11_582_891009\n",
      "220_92_11_485_920710\n",
      "400_102_11_840_1031217\n",
      "400_103_11_241_1031226\n",
      "400_103_11_426_1031229\n",
      "400_89_11_46_890118\n",
      "400_90_11_42_901031\n",
      "400_92_11_305_921029\n",
      "400_95_11_142_950413\n",
      "400_98_11_153_980602\n",
      "100_102_11_351_1040130\n",
      "100_102_11_520_1030409\n",
      "100_103_11_387_1040430\n",
      "700_102_11_13_1020402\n",
      "700_102_11_397_1030120\n",
      "700_103_11_306_1040126\n",
      "350_102_11_109_1030624\n",
      "850_100_11_742_1030522\n",
      "850_102_11_730_1040204\n"
     ]
    }
   ],
   "source": [
    "# -*- utf-8 -*-\n",
    "import os \n",
    "import re\n",
    "import codecs  #強制轉成utf-8\n",
    "import glob\n",
    "\n",
    "def no_court(content):\n",
    "    try:\n",
    "        court_no = {u\"臺北地方\":100,u\"士林地方\":111,u\"新北地方\":220,u\"宜蘭地方\":260,u\"基隆地方\":200,u\"桃園地方\":320,u\"新竹地方\":300,u\"苗栗地方\":350,u\"臺中地方\":400,u\"彰化地方\":500,u\"南投地方\":540,u\"臺南地方\":700,u\"高雄地方\":800,u\"花蓮地方\":970,u\"雲林地方\":630,u\"嘉義地方\":602,u\"臺東地方\":950,u\"屏東地方\":900,u\"澎湖地方\":880,u\"金門地方\":890,u\"連江地方\":209,u\"高雄少年及家事\":850}\n",
    "        m = re.search(u'[  \\d]*(灣|福建|臺灣)(\\S{4,7})法院(民事|家事|暫時|支付)(\\S{2})',content)\n",
    "        return str(court_no[m.group(2)])\n",
    "    except:\n",
    "        print \"Rex Err:\"+m.group(2)\n",
    "def no_jurytype(content):\n",
    "    try:\n",
    "        jurytype_no = {u\"婚\":11,u\"婚再\":12,u\"婚更\":13,u\"家聲\":21,u\"家訴\":22,u\"家抗\":23,u\"家陸許\":24,u\"司家聲\":30,u\"基家簡\":25,u\"重家訴\":26,u\"婚更一\":27,u\"婚更(一)\":28,u\"司家調\":29,u\"家移調\":31,u\"家簡\":32,u\"家調裁\":33,u\"家查\":34,u\"家聲抗\":35,u\"家調裁\":36,u\"家調補\":37,u\"司家補\":38,u\"家親聲\":39,u\"司家簡調\":40,u\"家簡上\":41,u\"家小\":42,u\"家救\":43,u\"家小上\":44,u\"家婚聲\":45,u\"家再\":46,u\"家他\":47,u\"訴\":48,u\"重訴\":49,u\"家續\":50,u\"審訴\":51,u\"聲\":52,u\"補\":90}\n",
    "        m = re.search(u'(【裁判字號】)(.*?),(.*?),(\\d{1,4})[^【】 ]',content)\n",
    "        return m.group(2)+\"_\"+str(jurytype_no[m.group(3)])+\"_\"+m.group(4)\n",
    "    except:\n",
    "        print \"Rex Err:\"+m.group(2)\n",
    "def judgedate(content):\n",
    "    m = re.search(u'(【裁判日期】)(\\d{6,7})',content)\n",
    "    return m.group(2)\n",
    "\n",
    "def getPK(content):\n",
    "    return no_court(content)+\"_\"+no_jurytype(content)+\"_\"+judgedate(content)\n",
    "\n",
    "dir_path = u'./jurybook/unknown_judge/*.txt'\n",
    "dic = {}\n",
    "for txtfile in glob.glob(dir_path):\n",
    "    with codecs.open(txtfile,'r','utf-8') as f :\n",
    "        content = f.read() # 不能圖超過 2Mb\n",
    "        f.close() # 在with 中 可不寫,會強制關閉\n",
    "        print getPK(content)\n",
    "        #print judgedate(content)"
   ]
  },
  {
   "cell_type": "code",
   "execution_count": null,
   "metadata": {
    "collapsed": true
   },
   "outputs": [],
   "source": [
    "        try:\n",
    "            if getPK(content) not in dic:\n",
    "                dic[getPK(content)] = 1\n",
    "            else:\n",
    "                dic[getPK(content)] = dic[getPK(content)] +1\n",
    "                #print txtfile\n",
    "        except:\n",
    "            print 'err:'+txtfile"
   ]
  },
  {
   "cell_type": "code",
   "execution_count": 40,
   "metadata": {
    "collapsed": false
   },
   "outputs": [
    {
     "ename": "IndentationError",
     "evalue": "expected an indented block (<ipython-input-40-903bc97e74b1>, line 5)",
     "output_type": "error",
     "traceback": [
      "\u001b[1;36m  File \u001b[1;32m\"<ipython-input-40-903bc97e74b1>\"\u001b[1;36m, line \u001b[1;32m5\u001b[0m\n\u001b[1;33m    #print ele\u001b[0m\n\u001b[1;37m              ^\u001b[0m\n\u001b[1;31mIndentationError\u001b[0m\u001b[1;31m:\u001b[0m expected an indented block\n"
     ]
    }
   ],
   "source": [
    "ddic ={'a':1,'b':1,'c':2}\n",
    "\n",
    "for ele in dic:\n",
    "    if dic[ele]>1:\n",
    "        #print ele"
   ]
  }
 ],
 "metadata": {
  "kernelspec": {
   "display_name": "Python 2",
   "language": "python",
   "name": "python2"
  },
  "language_info": {
   "codemirror_mode": {
    "name": "ipython",
    "version": 2
   },
   "file_extension": ".py",
   "mimetype": "text/x-python",
   "name": "python",
   "nbconvert_exporter": "python",
   "pygments_lexer": "ipython2",
   "version": "2.7.10"
  }
 },
 "nbformat": 4,
 "nbformat_minor": 0
}
