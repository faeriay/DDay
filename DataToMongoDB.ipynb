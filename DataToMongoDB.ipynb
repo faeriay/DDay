{
 "cells": [
  {
   "cell_type": "markdown",
   "metadata": {},
   "source": [
    "#Insert data to MongoDB"
   ]
  },
  {
   "cell_type": "code",
   "execution_count": 1,
   "metadata": {
    "collapsed": false
   },
   "outputs": [
    {
     "ename": "DuplicateKeyError",
     "evalue": "E11000 duplicate key error index: test.location.$_id_ dup key: { : 100 }",
     "output_type": "error",
     "traceback": [
      "\u001b[1;31m---------------------------------------------------------------------------\u001b[0m",
      "\u001b[1;31mDuplicateKeyError\u001b[0m                         Traceback (most recent call last)",
      "\u001b[1;32m<ipython-input-1-ed04afb8227e>\u001b[0m in \u001b[0;36m<module>\u001b[1;34m()\u001b[0m\n\u001b[0;32m     50\u001b[0m \u001b[1;32mfor\u001b[0m \u001b[0mi\u001b[0m \u001b[1;32min\u001b[0m \u001b[0mrange\u001b[0m\u001b[1;33m(\u001b[0m\u001b[1;36m0\u001b[0m\u001b[1;33m,\u001b[0m\u001b[0mlen\u001b[0m\u001b[1;33m(\u001b[0m\u001b[0mcourt_no\u001b[0m\u001b[1;33m.\u001b[0m\u001b[0mkeys\u001b[0m\u001b[1;33m(\u001b[0m\u001b[1;33m)\u001b[0m\u001b[1;33m)\u001b[0m\u001b[1;33m)\u001b[0m\u001b[1;33m:\u001b[0m\u001b[1;33m\u001b[0m\u001b[0m\n\u001b[0;32m     51\u001b[0m     \u001b[0mdic\u001b[0m \u001b[1;33m=\u001b[0m \u001b[1;33m{\u001b[0m\u001b[1;34m\"_id\"\u001b[0m\u001b[1;33m:\u001b[0m\u001b[0mcourt_no\u001b[0m\u001b[1;33m.\u001b[0m\u001b[0mvalues\u001b[0m\u001b[1;33m(\u001b[0m\u001b[1;33m)\u001b[0m\u001b[1;33m[\u001b[0m\u001b[0mi\u001b[0m\u001b[1;33m]\u001b[0m\u001b[1;33m,\u001b[0m\u001b[1;34m\"loc\"\u001b[0m\u001b[1;33m:\u001b[0m\u001b[0mcourt_no\u001b[0m\u001b[1;33m.\u001b[0m\u001b[0mkeys\u001b[0m\u001b[1;33m(\u001b[0m\u001b[1;33m)\u001b[0m\u001b[1;33m[\u001b[0m\u001b[0mi\u001b[0m\u001b[1;33m]\u001b[0m\u001b[1;33m}\u001b[0m\u001b[1;33m\u001b[0m\u001b[0m\n\u001b[1;32m---> 52\u001b[1;33m     \u001b[0minsert_loc\u001b[0m \u001b[1;33m=\u001b[0m \u001b[0mdb\u001b[0m\u001b[1;33m.\u001b[0m\u001b[0mlocation\u001b[0m\u001b[1;33m.\u001b[0m\u001b[0minsert\u001b[0m\u001b[1;33m(\u001b[0m\u001b[0mdic\u001b[0m\u001b[1;33m)\u001b[0m\u001b[1;33m\u001b[0m\u001b[0m\n\u001b[0m",
      "\u001b[1;32mC:\\Python27\\lib\\site-packages\\pymongo\\collection.pyc\u001b[0m in \u001b[0;36minsert\u001b[1;34m(self, doc_or_docs, manipulate, check_keys, continue_on_error, **kwargs)\u001b[0m\n\u001b[0;32m   1924\u001b[0m         \u001b[1;32mwith\u001b[0m \u001b[0mself\u001b[0m\u001b[1;33m.\u001b[0m\u001b[0m_socket_for_writes\u001b[0m\u001b[1;33m(\u001b[0m\u001b[1;33m)\u001b[0m \u001b[1;32mas\u001b[0m \u001b[0msock_info\u001b[0m\u001b[1;33m:\u001b[0m\u001b[1;33m\u001b[0m\u001b[0m\n\u001b[0;32m   1925\u001b[0m             return self._insert(sock_info, doc_or_docs, not continue_on_error,\n\u001b[1;32m-> 1926\u001b[1;33m                                 check_keys, manipulate, write_concern)\n\u001b[0m\u001b[0;32m   1927\u001b[0m \u001b[1;33m\u001b[0m\u001b[0m\n\u001b[0;32m   1928\u001b[0m     def update(self, spec, document, upsert=False, manipulate=False,\n",
      "\u001b[1;32mC:\\Python27\\lib\\site-packages\\pymongo\\collection.pyc\u001b[0m in \u001b[0;36m_insert\u001b[1;34m(self, sock_info, docs, ordered, check_keys, manipulate, write_concern)\u001b[0m\n\u001b[0;32m    429\u001b[0m                 \u001b[0mself\u001b[0m\u001b[1;33m.\u001b[0m\u001b[0mdatabase\u001b[0m\u001b[1;33m.\u001b[0m\u001b[0mname\u001b[0m \u001b[1;33m+\u001b[0m \u001b[1;34m\".$cmd\"\u001b[0m\u001b[1;33m,\u001b[0m \u001b[0m_INSERT\u001b[0m\u001b[1;33m,\u001b[0m \u001b[0mcommand\u001b[0m\u001b[1;33m,\u001b[0m\u001b[1;33m\u001b[0m\u001b[0m\n\u001b[0;32m    430\u001b[0m                 gen(), check_keys, self.codec_options, sock_info)\n\u001b[1;32m--> 431\u001b[1;33m             \u001b[0m_check_write_command_response\u001b[0m\u001b[1;33m(\u001b[0m\u001b[0mresults\u001b[0m\u001b[1;33m)\u001b[0m\u001b[1;33m\u001b[0m\u001b[0m\n\u001b[0m\u001b[0;32m    432\u001b[0m         \u001b[1;32melse\u001b[0m\u001b[1;33m:\u001b[0m\u001b[1;33m\u001b[0m\u001b[0m\n\u001b[0;32m    433\u001b[0m             \u001b[1;31m# Legacy batched OP_INSERT.\u001b[0m\u001b[1;33m\u001b[0m\u001b[1;33m\u001b[0m\u001b[0m\n",
      "\u001b[1;32mC:\\Python27\\lib\\site-packages\\pymongo\\helpers.pyc\u001b[0m in \u001b[0;36m_check_write_command_response\u001b[1;34m(results)\u001b[0m\n\u001b[0;32m    258\u001b[0m             \u001b[0merror\u001b[0m\u001b[1;33m[\u001b[0m\u001b[1;34m\"index\"\u001b[0m\u001b[1;33m]\u001b[0m \u001b[1;33m+=\u001b[0m \u001b[0moffset\u001b[0m\u001b[1;33m\u001b[0m\u001b[0m\n\u001b[0;32m    259\u001b[0m             \u001b[1;32mif\u001b[0m \u001b[0merror\u001b[0m\u001b[1;33m.\u001b[0m\u001b[0mget\u001b[0m\u001b[1;33m(\u001b[0m\u001b[1;34m\"code\"\u001b[0m\u001b[1;33m)\u001b[0m \u001b[1;33m==\u001b[0m \u001b[1;36m11000\u001b[0m\u001b[1;33m:\u001b[0m\u001b[1;33m\u001b[0m\u001b[0m\n\u001b[1;32m--> 260\u001b[1;33m                 \u001b[1;32mraise\u001b[0m \u001b[0mDuplicateKeyError\u001b[0m\u001b[1;33m(\u001b[0m\u001b[0merror\u001b[0m\u001b[1;33m.\u001b[0m\u001b[0mget\u001b[0m\u001b[1;33m(\u001b[0m\u001b[1;34m\"errmsg\"\u001b[0m\u001b[1;33m)\u001b[0m\u001b[1;33m,\u001b[0m \u001b[1;36m11000\u001b[0m\u001b[1;33m,\u001b[0m \u001b[0merror\u001b[0m\u001b[1;33m)\u001b[0m\u001b[1;33m\u001b[0m\u001b[0m\n\u001b[0m\u001b[0;32m    261\u001b[0m             \u001b[1;32mraise\u001b[0m \u001b[0mWriteError\u001b[0m\u001b[1;33m(\u001b[0m\u001b[0merror\u001b[0m\u001b[1;33m.\u001b[0m\u001b[0mget\u001b[0m\u001b[1;33m(\u001b[0m\u001b[1;34m\"errmsg\"\u001b[0m\u001b[1;33m)\u001b[0m\u001b[1;33m,\u001b[0m \u001b[0merror\u001b[0m\u001b[1;33m.\u001b[0m\u001b[0mget\u001b[0m\u001b[1;33m(\u001b[0m\u001b[1;34m\"code\"\u001b[0m\u001b[1;33m)\u001b[0m\u001b[1;33m,\u001b[0m \u001b[0merror\u001b[0m\u001b[1;33m)\u001b[0m\u001b[1;33m\u001b[0m\u001b[0m\n\u001b[0;32m    262\u001b[0m         \u001b[1;32melse\u001b[0m\u001b[1;33m:\u001b[0m\u001b[1;33m\u001b[0m\u001b[0m\n",
      "\u001b[1;31mDuplicateKeyError\u001b[0m: E11000 duplicate key error index: test.location.$_id_ dup key: { : 100 }"
     ]
    }
   ],
   "source": [
    "import re\n",
    "import glob\n",
    "import codecs\n",
    "import pymongo\n",
    "from pymongo import MongoClient\n",
    "\n",
    "def no_court(content):\n",
    "    try:\n",
    "        court_no = {u\"臺北地方\":100,u\"士林地方\":111,u\"新北地方\":220,u\"宜蘭地方\":260,u\"基隆地方\":200,u\"桃園地方\":320,u\"新竹地方\":300,u\"苗栗地方\":350,u\"臺中地方\":400,u\"彰化地方\":500,u\"南投地方\":540,u\"臺南地方\":700,u\"高雄地方\":800,u\"花蓮地方\":970,u\"雲林地方\":630,u\"嘉義地方\":602,u\"臺東地方\":950,u\"屏東地方\":900,u\"澎湖地方\":880,u\"金門地方\":890,u\"連江地方\":209,u\"高雄少年及家事\":850}\n",
    "        m = re.search(u'[  \\d]*(灣|福建|臺灣)(\\S{4,7})法院(民事|家事|暫時|支付)(\\S{2})',content)\n",
    "        return str(court_no[m.group(2)])\n",
    "    except:\n",
    "        print \"Rex Err:\"+m.group(2)\n",
    "def no_jurytype(content):\n",
    "    try:\n",
    "        jurytype_no = {u\"婚\":11,u\"婚再\":12,u\"婚更\":13,u\"家聲\":21,u\"家訴\":22,u\"家抗\":23,u\"家陸許\":24,u\"司家聲\":30,u\"基家簡\":25,u\"重家訴\":26,u\"婚更一\":27,u\"婚更(一)\":28,u\"司家調\":29,u\"家移調\":31,u\"家簡\":32,u\"家調裁\":33,u\"家查\":34,u\"家聲抗\":35,u\"家調裁\":36,u\"家調補\":37,u\"司家補\":38,u\"家親聲\":39,u\"司家簡調\":40,u\"家簡上\":41,u\"家小\":42,u\"家救\":43,u\"家小上\":44,u\"家婚聲\":45,u\"家再\":46,u\"家他\":47,u\"訴\":48,u\"重訴\":49,u\"家續\":50,u\"審訴\":51,u\"聲\":52,u\"補\":90}\n",
    "        m = re.search(u'(【裁判字號】)(.*?),(.*?),(\\d{1,4})[^【】 ]',content)\n",
    "        return m.group(2)+\"_\"+str(jurytype_no[m.group(3)])+\"_\"+m.group(4)\n",
    "    except:\n",
    "        print \"Rex Err:\"+m.group(2)\n",
    "def judgedate(content):\n",
    "    m = re.search(u'(【裁判日期】)(\\d{6,7})',content)\n",
    "    return m.group(2)\n",
    "\n",
    "def getPK(content):\n",
    "    return no_court(content)+\"_\"+no_jurytype(content)+\"_\"+judgedate(content)\n",
    "\n",
    "# getPK(content) does not use this function\n",
    "def courtname(content):\n",
    "    m = re.search(u'[  \\d]*(灣|福建)(\\S{4})法院(民事|家事|暫時|支付)(\\S{2})',content)\n",
    "    return m.group(2)\n",
    "\n",
    "#make a connection to mongodb \n",
    "client = pymongo.MongoClient('localhost',27017)\n",
    "#assign db_name to db\n",
    "db = client.test\n",
    "#make the collection in the db of test\n",
    "collection = db['dday']\n",
    "dday = db.dday\n",
    "#read the judicial case in the directory\n",
    "for i in glob.glob(u'./samples/*.txt'):\n",
    "    with codecs.open(i,'r','utf-8') as f :\n",
    "        content = f.read() # 不能圖超過 2Mb\n",
    "        f.close() # 在with 中 可不寫,會強制關閉\n",
    "        #make the bson formate and assign to the dic\n",
    "        dic = {\"_id\":getPK(content),\"juryno\":no_jurytype(content),\"judgedate\":judgedate(content),\"courtname\":courtname(content)}\n",
    "        #insert to the collection of dday\n",
    "        dday_id = dday.insert(dic)\n",
    "\n",
    "#make the new collection of location\n",
    "collection = db['location']\n",
    "court_no = {u\"臺北地方\":100,u\"士林地方\":111,u\"新北地方\":220,u\"宜蘭地方\":260,u\"基隆地方\":200,u\"桃園地方\":320,u\"新竹地方\":300,u\"苗栗地方\":350,u\"臺中地方\":400,u\"彰化地方\":500,u\"南投地方\":540,u\"臺南地方\":700,u\"高雄地方\":800,u\"花蓮地方\":970,u\"雲林地方\":630,u\"嘉義地方\":602,u\"臺東地方\":950,u\"屏東地方\":900,u\"澎湖地方\":880,u\"福建金門\":890,u\"福建連江\":209,u\"高雄少年\":850}\n",
    "#make the doc of location -> id = zip code, loc=court location\n",
    "for i in range(0,len(court_no.keys())):\n",
    "    dic = {\"_id\":court_no.values()[i],\"loc\":court_no.keys()[i]}\n",
    "    insert_loc = db.location.insert(dic) "
   ]
  },
  {
   "cell_type": "markdown",
   "metadata": {},
   "source": [
    "#Query data in MongoDB"
   ]
  },
  {
   "cell_type": "code",
   "execution_count": 17,
   "metadata": {
    "collapsed": false
   },
   "outputs": [
    {
     "ename": "IndentationError",
     "evalue": "expected an indented block (<ipython-input-17-e7157a94e79b>, line 17)",
     "output_type": "error",
     "traceback": [
      "\u001b[1;36m  File \u001b[1;32m\"<ipython-input-17-e7157a94e79b>\"\u001b[1;36m, line \u001b[1;32m17\u001b[0m\n\u001b[1;33m    #print i.keys()[0]+\":\"+i.values()[0],i.keys()[1]+\":\"+i.values()[1]\u001b[0m\n\u001b[1;37m                                                                      ^\u001b[0m\n\u001b[1;31mIndentationError\u001b[0m\u001b[1;31m:\u001b[0m expected an indented block\n"
     ]
    }
   ],
   "source": [
    "import re\n",
    "import glob\n",
    "import codecs\n",
    "import _uniout\n",
    "import pymongo\n",
    "from pymongo import MongoClient\n",
    "#make a connection to mongodb \n",
    "client = pymongo.MongoClient('localhost',27017)\n",
    "#assign db_name to db\n",
    "db = client.test\n",
    "#make the collection in the db of test\n",
    "collection = db['dday']\n",
    "dday = db.dday\n",
    "#print the case number in db.dday\n",
    "for i in dday.find({},{\"location\":1,\"_id\":0}):\n",
    "    #print _uniout.unescape(str(i),'utf-8') \n",
    "    #print i.keys()[0]+\":\"+i.values()[0],i.keys()[1]+\":\"+i.values()[1]\n"
   ]
  },
  {
   "cell_type": "markdown",
   "metadata": {},
   "source": [
    "# Update document in MongoDB"
   ]
  },
  {
   "cell_type": "code",
   "execution_count": 14,
   "metadata": {
    "collapsed": false
   },
   "outputs": [
    {
     "name": "stdout",
     "output_type": "stream",
     "text": [
      "602_86_11_243_891031 602\n",
      "602_87_11_244_890613 602\n",
      "602_88_11_107_891226 602\n",
      "602_88_11_164_890608 602\n",
      "602_88_11_184_890322 602\n",
      "602_88_11_209_890128 602\n",
      "602_88_11_213_890131 602\n",
      "602_88_11_240_890114 602\n",
      "602_88_11_247_890418 602\n",
      "602_88_11_280_890308 602\n"
     ]
    }
   ],
   "source": [
    "import re\n",
    "import glob\n",
    "import codecs\n",
    "import _uniout\n",
    "import pymongo\n",
    "from pymongo import MongoClient\n",
    "\n",
    "def no_court(content):\n",
    "    try:\n",
    "        court_no = {u\"臺北地方\":100,u\"士林地方\":111,u\"新北地方\":220,u\"宜蘭地方\":260,u\"基隆地方\":200,u\"桃園地方\":320,u\"新竹地方\":300,u\"苗栗地方\":350,u\"臺中地方\":400,u\"彰化地方\":500,u\"南投地方\":540,u\"臺南地方\":700,u\"高雄地方\":800,u\"花蓮地方\":970,u\"雲林地方\":630,u\"嘉義地方\":602,u\"臺東地方\":950,u\"屏東地方\":900,u\"澎湖地方\":880,u\"金門地方\":890,u\"連江地方\":209,u\"高雄少年及家事\":850}\n",
    "        m = re.search(u'[  \\d]*(灣|福建|臺灣)(\\S{4,7})法院(民事|家事|暫時|支付)(\\S{2})',content)\n",
    "        return str(court_no[m.group(2)])\n",
    "    except:\n",
    "        print \"Rex Err:\"+m.group(2)\n",
    "def no_jurytype(content):\n",
    "    try:\n",
    "        jurytype_no = {u\"婚\":11,u\"婚再\":12,u\"婚更\":13,u\"家聲\":21,u\"家訴\":22,u\"家抗\":23,u\"家陸許\":24,u\"司家聲\":30,u\"基家簡\":25,u\"重家訴\":26,u\"婚更一\":27,u\"婚更(一)\":28,u\"司家調\":29,u\"家移調\":31,u\"家簡\":32,u\"家調裁\":33,u\"家查\":34,u\"家聲抗\":35,u\"家調裁\":36,u\"家調補\":37,u\"司家補\":38,u\"家親聲\":39,u\"司家簡調\":40,u\"家簡上\":41,u\"家小\":42,u\"家救\":43,u\"家小上\":44,u\"家婚聲\":45,u\"家再\":46,u\"家他\":47,u\"訴\":48,u\"重訴\":49,u\"家續\":50,u\"審訴\":51,u\"聲\":52,u\"補\":90}\n",
    "        m = re.search(u'(【裁判字號】)(.*?),(.*?),(\\d{1,4})[^【】 ]',content)\n",
    "        return m.group(2)+\"_\"+str(jurytype_no[m.group(3)])+\"_\"+m.group(4)\n",
    "    except:\n",
    "        print \"Rex Err:\"+m.group(2)\n",
    "def judgedate(content):\n",
    "    m = re.search(u'(【裁判日期】)(\\d{6,7})',content)\n",
    "    return m.group(2)\n",
    "\n",
    "def getPK(content):\n",
    "    return no_court(content)+\"_\"+no_jurytype(content)+\"_\"+judgedate(content)\n",
    "\n",
    "#make a connection to mongodb \n",
    "client = pymongo.MongoClient('localhost',27017)\n",
    "#assign db_name to db\n",
    "db = client.test\n",
    "#make the collection in the db of test\n",
    "collection = db['dday']\n",
    "dday = db.dday\n",
    "#read the judicial case in the directory\n",
    "dir_path = glob.glob(u'./samples/*.txt')\n",
    "for i in dir_path:\n",
    "    with codecs.open(i,'r','utf-8') as f :\n",
    "        content = f.read() # 不能圖超過 2Mb\n",
    "        f.close() # 在with 中 可不寫,會強制關閉\n",
    "        #create the new field\n",
    "        print getPK(content),no_court(content)\n",
    "        filename = re.search(u'(.*)/(.*?).txt',i).group(2)\n",
    "        #update new field to the dday collection\n",
    "        update = dday.update({\"_id\":getPK(content)},{\"$set\":{\"location\":no_court(content)}},upsert=False)\n",
    "\n",
    "        "
   ]
  },
  {
   "cell_type": "markdown",
   "metadata": {},
   "source": [
    "# Join two collection in query"
   ]
  },
  {
   "cell_type": "code",
   "execution_count": null,
   "metadata": {
    "collapsed": true
   },
   "outputs": [],
   "source": [
    "import pymongo\n",
    "from pymongo import MongoClient\n",
    "#make a connection to mongodb \n",
    "client = pymongo.MongoClient('localhost',27017)\n",
    "#assign db_name to db\n",
    "db = client.test\n",
    "#connect two collection in the db of test\n",
    "collection = db['dday']\n",
    "dday = db.dday\n",
    "collection = db['location']\n",
    "#make the dictionary from collection of \"location\"\n",
    "dic_loc = {}\n",
    "for j in db.location.find():\n",
    "    dic_loc.update({str(j[\"_id\"]):j[\"loc\"]})\n",
    "#join query in python\n",
    "for i in dday.find({},{'_id':0,'juryno':1,'location':1}):\n",
    "    #print _uniout.unescape(str(i),'utf-8') \n",
    "    print i['juryno'],\"ZIP:\"+i[\"location\"],\"location:\"+dic_loc[i[\"location\"]]"
   ]
  },
  {
   "cell_type": "markdown",
   "metadata": {},
   "source": [
    "# Remove the field"
   ]
  },
  {
   "cell_type": "code",
   "execution_count": 26,
   "metadata": {
    "collapsed": true
   },
   "outputs": [],
   "source": [
    "import pymongo\n",
    "from pymongo import MongoClient\n",
    "#make a connection to mongodb \n",
    "client = pymongo.MongoClient('localhost',27017)\n",
    "#client = pymongo.MongoClient('mongodb://10.120.28.4',27017)\n",
    "#the name of db\n",
    "db = client.test\n",
    "#make the collection in the db of test\n",
    "collection = db['dday']\n",
    "dday = db.dday\n",
    "#Drop the field of \"filename2\"\n",
    "for i in dday.find():\n",
    "    dropfield = dday.update({},{\"$unset\":{\"filename2\":\"\"}},upsert=False,multi=True)\n"
   ]
  },
  {
   "cell_type": "markdown",
   "metadata": {},
   "source": [
    "#Drop the collection"
   ]
  },
  {
   "cell_type": "code",
   "execution_count": 3,
   "metadata": {
    "collapsed": false
   },
   "outputs": [],
   "source": [
    "import pymongo\n",
    "from pymongo import MongoClient\n",
    "#make a connection to mongodb \n",
    "client = pymongo.MongoClient('localhost',27017)\n",
    "#client = pymongo.MongoClient('mongodb://10.120.28.4',27017)\n",
    "#account of db ??\n",
    "db = client.test\n",
    "#make the collection in the db of test\n",
    "collection = db['jurybook']\n",
    "jurybook = db.jurybook\n",
    "#Drop the collection of \"dday\"\n",
    "db.drop_collection('jurybook')\n"
   ]
  },
  {
   "cell_type": "markdown",
   "metadata": {},
   "source": [
    "# Clone the collection to new db"
   ]
  },
  {
   "cell_type": "code",
   "execution_count": 24,
   "metadata": {
    "collapsed": false
   },
   "outputs": [],
   "source": [
    "import pymongo\n",
    "from pymongo import MongoClient\n",
    "client = pymongo.MongoClient('localhost',27017)\n",
    "#assign db_name to db\n",
    "db = client.test\n",
    "#make the collection in the db of test\n",
    "collection = db['dday']\n",
    "dday = db.dday\n",
    "#create the new db and collection\n",
    "db2 = client.test2\n",
    "collection = db2['dday']\n",
    "dday2 = db2.dday\n",
    "for i in dday.find():\n",
    "    insert = dday2.insert(i)\n",
    "    "
   ]
  },
  {
   "cell_type": "markdown",
   "metadata": {},
   "source": [
    "# Import and overwrite the collection from another db"
   ]
  },
  {
   "cell_type": "code",
   "execution_count": 25,
   "metadata": {
    "collapsed": false
   },
   "outputs": [],
   "source": [
    "import pymongo\n",
    "from pymongo import MongoClient\n",
    "client = pymongo.MongoClient('localhost',27017)\n",
    "#db for importing \n",
    "db = client.test\n",
    "collection = db['dday']\n",
    "dday = db.dday\n",
    "#the source of db2 \n",
    "db2 = client.test2\n",
    "collection = db2['dday']\n",
    "dday2 = db2.dday\n",
    "for i in dday2.find():\n",
    "    update = dday.update({\"_id\":i[\"_id\"]},{\"$set\":i},upsert=False)\n",
    "    "
   ]
  }
 ],
 "metadata": {
  "kernelspec": {
   "display_name": "Python 2",
   "language": "python",
   "name": "python2"
  },
  "language_info": {
   "codemirror_mode": {
    "name": "ipython",
    "version": 2
   },
   "file_extension": ".py",
   "mimetype": "text/x-python",
   "name": "python",
   "nbconvert_exporter": "python",
   "pygments_lexer": "ipython2",
   "version": "2.7.10"
  }
 },
 "nbformat": 4,
 "nbformat_minor": 0
}
