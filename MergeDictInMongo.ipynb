{
 "cells": [
  {
   "cell_type": "markdown",
   "metadata": {},
   "source": [
    "# Merge dict and Aggregate values for keys"
   ]
  },
  {
   "cell_type": "code",
   "execution_count": 1,
   "metadata": {
    "collapsed": false
   },
   "outputs": [],
   "source": [
    "class MyDict(dict):\n",
    "    def __add__(self, oth):\n",
    "        #r = self.copy()\n",
    "        r =self\n",
    "        try:\n",
    "            for key, val in oth.items():\n",
    "                if key in r:\n",
    "                    r[key] += val # You can custom it here\n",
    "                else:\n",
    "                    r[key] = val\n",
    "        except AttributeError: # In case oth isn't a dict\n",
    "            return NotImplemented # The convention when a case isn't handled\n",
    "\n",
    "        return r\n",
    "\n",
    "import re,codecs\n",
    "import pymongo\n",
    "from pymongo import MongoClient\n",
    "import _uniout\n",
    "#make a connection to mongodb \n",
    "client = pymongo.MongoClient('localhost',27017)\n",
    "db = client.test2\n",
    "db2 = client.test3\n",
    "plaintiff_four = db['plaintiff_sinica_fre']\n",
    "#make the collection in the db of test\n",
    "merge_sinica_fre = db2['merge_sinica_fre']\n",
    "#print the case number in db.dday\n",
    "\n",
    "zipcode = [100,111,220,260,200,320,300,350,400,500,540,700,800,970,630,602,950,900,880,890,209,850]\n",
    "\n",
    "for zips in zipcode:\n",
    "    dicc ={}\n",
    "    mergedic =MyDict(dicc)\n",
    "    for dic in db.plaintiff_sinica_fre.find({'_id':{'$regex':'^%d_'%(zips)}},{'_id':0},no_cursor_timeout=True):\n",
    "        mergedic += MyDict(dic)\n",
    "    mergedic.update({'_id':zips})\n",
    "    add = db2.merge_sinica_fre.insert(mergedic)\n",
    "\n"
   ]
  },
  {
   "cell_type": "code",
   "execution_count": null,
   "metadata": {
    "collapsed": true
   },
   "outputs": [],
   "source": [
    "aggregate = db.merge_320_four.insert(mergedic)\n",
    "    f = codecs.open('./log/merge_320_four_log.txt','a+','utf-8')\n",
    "    log = iid +'\\t'+ str(len(mergedic)).decode('utf8')+'\\n'\n",
    "    f.write(log)\n",
    "    #print iid,len(mergedic)\n",
    "    num += 1\n",
    "    #print _uniout.unescape(str(mergedic),'utf-8') \n",
    "#print len(mergedic)\n",
    "f.close()"
   ]
  }
 ],
 "metadata": {
  "kernelspec": {
   "display_name": "Python 2",
   "language": "python",
   "name": "python2"
  },
  "language_info": {
   "codemirror_mode": {
    "name": "ipython",
    "version": 2
   },
   "file_extension": ".py",
   "mimetype": "text/x-python",
   "name": "python",
   "nbconvert_exporter": "python",
   "pygments_lexer": "ipython2",
   "version": "2.7.10"
  }
 },
 "nbformat": 4,
 "nbformat_minor": 0
}
