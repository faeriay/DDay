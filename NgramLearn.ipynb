{
 "cells": [
  {
   "cell_type": "markdown",
   "metadata": {},
   "source": [
    "# 轉換成每行一句話"
   ]
  },
  {
   "cell_type": "code",
   "execution_count": 51,
   "metadata": {
    "collapsed": false
   },
   "outputs": [],
   "source": [
    "# -*- utf-8 -*-\n",
    "import codecs\n",
    "cutlist = \" <>/:：;；,、＂’，.。！？｢\\\"\\'\\\\\\n\\r《》“”!@#$%^&*()\".decode(\"utf-8\")  ##列出標點符號，並轉換成utf-8的格式\n",
    "keywords = []\n",
    "sentence = \"\"\n",
    "textList = []\n",
    "text = codecs.open('./samples/100_88_11_226_890623.txt','r','utf-8',errors='ignore')\n",
    "\n",
    "for line in text.read():#每次line只讀取文章一個字\n",
    "    line = line.strip()\n",
    "    #print line\n",
    "    for keyword in keywords:  #清除關鍵字，這迴圈應是縮短太長英文單字所使用，對中文毫無作用。中文都被切成一個字，如何再切？\n",
    "        line = \"\".join(line.split(keyword))\n",
    "    for word in line:\n",
    "        if word not in cutlist: #如果文字不是標點符號，就把單字合併成句子\n",
    "            sentence += word\n",
    "            #print sentence\n",
    "        else:\n",
    "            textList.append(sentence) #遇到標點符號就把前面合併的句子丟到textList中\n",
    "            sentence = \"\"#句子變回成空字串，繼續合併下一句\n",
    "#for ele in textList: #顯示文章所斷句子\n",
    "    #print ele\n",
    "\n",
    "\n",
    "    "
   ]
  },
  {
   "cell_type": "markdown",
   "metadata": {},
   "source": [
    "# 將句子重複切成預設長度的詞彙"
   ]
  },
  {
   "cell_type": "code",
   "execution_count": 62,
   "metadata": {
    "collapsed": false
   },
   "outputs": [],
   "source": [
    "textlists = [u'太陽太陽的孩子',u'百日告別',u'逐夢大道',u'聖母峰',u'控制']\n",
    "words_freq={}#存放字詞:計算個數 \n",
    "words=[] \n",
    "n = 2\n",
    "for txt in textlists: \n",
    "    #print txt\n",
    "    for w in range(len(txt)-(n-1)): #根據字詞長度與每次切多長的詞彙換算出，每個句子要切幾次\n",
    "            words.append(txt[w:w+n])#從句首開始，每次切n長度的詞彙丟到Array中\n",
    "    for word in words:\n",
    "        if word not in words_freq:               #如果這個字詞還沒有被放在字典檔中\n",
    "            words_freq[word] = words.count(word) #就開一個新的字詞，裡面放入字詞計算的頻次\n",
    "#for i in words_freq:\n",
    " #   print i,words_freq[i]\n",
    "            \n",
    "#for i in words:\n",
    " #   print i\n",
    "#words.count(u'太陽')"
   ]
  },
  {
   "cell_type": "markdown",
   "metadata": {},
   "source": [
    "# 將詞彙與字頻的字典檔轉換成數組"
   ]
  },
  {
   "cell_type": "code",
   "execution_count": 63,
   "metadata": {
    "collapsed": false
   },
   "outputs": [],
   "source": [
    "import operator\n",
    "result= []\n",
    "words_freq = sorted(words_freq.iteritems(),key=operator.itemgetter(1),reverse=True) \n",
    "#change words_freq from dict to list \n",
    "#以tuple形式包裝至list，像是[('太陽',2),('孩子',1)]\n",
    "#key = operator.itemgetter(1) #代表要以tuple的第二個值域排序，也就是字頻數字排\n",
    "\n"
   ]
  },
  {
   "cell_type": "markdown",
   "metadata": {},
   "source": [
    "# 留下最低字頻數以上字彙"
   ]
  },
  {
   "cell_type": "code",
   "execution_count": 64,
   "metadata": {
    "collapsed": false
   },
   "outputs": [
    {
     "name": "stdout",
     "output_type": "stream",
     "text": [
      "太陽 2\n"
     ]
    }
   ],
   "source": [
    "minFreq = 2\n",
    "for word in words_freq:\n",
    "    if word[1] >= minFreq:\n",
    "        result.append(word)\n",
    "for ele in result:\n",
    "    print ele[0],ele[1]"
   ]
  },
  {
   "cell_type": "code",
   "execution_count": 65,
   "metadata": {
    "collapsed": false
   },
   "outputs": [
    {
     "name": "stdout",
     "output_type": "stream",
     "text": [
      "5\n",
      "4\n",
      "3\n",
      "2\n"
     ]
    }
   ],
   "source": [
    "maxTermLength = 5\n",
    "for i in range(maxTermLength,1,-1):\n",
    "    print i"
   ]
  }
 ],
 "metadata": {
  "kernelspec": {
   "display_name": "Python 2",
   "language": "python",
   "name": "python2"
  },
  "language_info": {
   "codemirror_mode": {
    "name": "ipython",
    "version": 2
   },
   "file_extension": ".py",
   "mimetype": "text/x-python",
   "name": "python",
   "nbconvert_exporter": "python",
   "pygments_lexer": "ipython2",
   "version": "2.7.9"
  }
 },
 "nbformat": 4,
 "nbformat_minor": 0
}
