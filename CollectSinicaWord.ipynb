{
 "cells": [
  {
   "cell_type": "markdown",
   "metadata": {},
   "source": [
    "# 不分詞性蒐集字頻(去除括號與詞性)"
   ]
  },
  {
   "cell_type": "code",
   "execution_count": 61,
   "metadata": {
    "collapsed": false
   },
   "outputs": [],
   "source": [
    "import glob,codecs,re\n",
    "import _uniout\n",
    "import pymongo\n",
    "from pymongo import MongoClient\n",
    "\n",
    "def wordcount(findlist):\n",
    "    words_freq={}\n",
    "    for word in findlist:\n",
    "        subterm =re.sub(u'兩造|離婚|被告|原告|新台幣|新臺幣|[\\.$「」（）)(、。：，第條款項○○○一二三四五六七八九十萬甲乙丙丁戊壹貳叄肆伍陸柒捌玖拾佰仟萬億元於年月日1234567890]','',word)\n",
    "        #if word not in punctions:\n",
    "        if len(subterm)>1:\n",
    "            if subterm not in words_freq:\n",
    "                words_freq[subterm] = 1\n",
    "            else:\n",
    "                words_freq[subterm] += 1\n",
    "    #for ele in words_freq:\n",
    "        #print ele,words_freq[ele]\n",
    "    return words_freq\n",
    "\n",
    "client = pymongo.MongoClient('localhost',27017)\n",
    "db = client.test2\n",
    "collection = db['plaintiff_sinica_fre']\n",
    "\n",
    "for filename in glob.glob('E:\\\\jurydata\\\\plaintiff_sinica\\\\*.txt'):\n",
    "    f = codecs.open(filename,'r','utf-8')\n",
    "    content = f.read()\n",
    "    pk = re.search(r'([^\\\\/]*)\\.txt',filename).group(1)\n",
    "    #print pk\n",
    "    mm = re.findall(u'　(\\S*?)\\(',content)\n",
    "    words_freq = wordcount(mm)\n",
    "    if len(words_freq)>0:\n",
    "        words_freq.update({'_id':pk})\n",
    "        add_mongo = db.plaintiff_sinica_fre.insert(words_freq)\n",
    "    else:\n",
    "        words_freq = {'_id':pk,'None':''}\n",
    "        add_mongo = db.plaintiff_sinica_fre.insert(words_freq)\n",
    "    #for ele in words_freq:\n",
    "        #print ele,words_freq[ele]\n"
   ]
  },
  {
   "cell_type": "code",
   "execution_count": null,
   "metadata": {
    "collapsed": true
   },
   "outputs": [],
   "source": []
  }
 ],
 "metadata": {
  "kernelspec": {
   "display_name": "Python 2",
   "language": "python",
   "name": "python2"
  },
  "language_info": {
   "codemirror_mode": {
    "name": "ipython",
    "version": 2
   },
   "file_extension": ".py",
   "mimetype": "text/x-python",
   "name": "python",
   "nbconvert_exporter": "python",
   "pygments_lexer": "ipython2",
   "version": "2.7.10"
  }
 },
 "nbformat": 4,
 "nbformat_minor": 0
}
