{
 "cells": [
  {
   "cell_type": "code",
   "execution_count": 9,
   "metadata": {
    "collapsed": false
   },
   "outputs": [],
   "source": [
    "import re\n",
    "import _uniout\n",
    "import pymongo\n",
    "import codecs\n",
    "from pymongo import MongoClient\n",
    "#make a connection to mongodb \n",
    "client = pymongo.MongoClient('localhost',27017)\n",
    "#assign db_name to db\n",
    "db = client.test\n",
    "#make the collection in the db of test\n",
    "plaintiff = db['plaintiff']\n",
    "#print the case number in db.dday\n",
    "for dic in db.plaintiff.find():\n",
    "    #print _uniout.unescape(str(i),'utf-8') \n",
    "    content = dic['plaintiff'] #append all the jurybook to the content\n",
    "    oneline = re.sub('[\\r\\n]','',content)\n",
    "    filename = dic['_id']\n",
    "    #print type(filename)\n",
    "    f = codecs.open('./plaintiff_oneline/%s.txt'%(filename),'w','utf-8')\n",
    "    f.write(oneline)\n",
    "    f.close()\n",
    "    \n",
    "    "
   ]
  }
 ],
 "metadata": {
  "kernelspec": {
   "display_name": "Python 2",
   "language": "python",
   "name": "python2"
  },
  "language_info": {
   "codemirror_mode": {
    "name": "ipython",
    "version": 2
   },
   "file_extension": ".py",
   "mimetype": "text/x-python",
   "name": "python",
   "nbconvert_exporter": "python",
   "pygments_lexer": "ipython2",
   "version": "2.7.10"
  }
 },
 "nbformat": 4,
 "nbformat_minor": 0
}
