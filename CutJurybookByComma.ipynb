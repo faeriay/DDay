{
 "cells": [
  {
   "cell_type": "code",
   "execution_count": 20,
   "metadata": {
    "collapsed": false
   },
   "outputs": [],
   "source": [
    "import os \n",
    "import re\n",
    "import codecs\n",
    "import _uniout \n",
    "import glob\n",
    "def cutSentence(content): \n",
    "    cutlist = \" <>/:：;；,、＂’，.。！？｢\\\"\\'\\\\\\n\\r《》“”!@#$%^&*()\".decode(\"utf-8\")  ##列出標點符號，並轉換成utf-8的格式\n",
    "    sentence = \"\"\n",
    "    textList = []\n",
    "    for line in content:\n",
    "        line = line.replace(u'　', '')#清除全形空白\n",
    "        line = line.replace(u'【','')\n",
    "        line = line.replace(u'】','')\n",
    "        line = line.strip() #清除空白\n",
    "        for word in line:\n",
    "            if word not in cutlist: #如果文字不是標點符號，就把字加到句子中\n",
    "                sentence += word\n",
    "                #print sentence\n",
    "            else:\n",
    "                textList.append(sentence) #把文章句子依標點符號與空白隔開\n",
    "                sentence = \"\"\n",
    "            #for ele in textList: #顯示文章所斷句子\n",
    "                #print ele\n",
    "    return textList\n",
    "\n",
    "for filename in glob.glob(u'./jurybook/rename_judgement/*.txt'):\n",
    "    with codecs.open( filename ,'r' ,'utf-8') as f :\n",
    "        content = f.read()\n",
    "    cutcontent = cutSentence(content)\n",
    "    output = ''\n",
    "    for ele in cutcontent:\n",
    "        output += ele+'\\r\\n'\n",
    "    #print output\n",
    "    m = re.search(r'([^\\\\/]*)\\.txt',filename).group(1)\n",
    "    f = codecs.open('./jurybook/cutjurybook/%s.txt'%(m),'w','utf-8')\n",
    "    f.write(output)\n",
    "    f.close()\n",
    "    #print '----------------------------------------------------'"
   ]
  }
 ],
 "metadata": {
  "kernelspec": {
   "display_name": "Python 2",
   "language": "python",
   "name": "python2"
  },
  "language_info": {
   "codemirror_mode": {
    "name": "ipython",
    "version": 2
   },
   "file_extension": ".py",
   "mimetype": "text/x-python",
   "name": "python",
   "nbconvert_exporter": "python",
   "pygments_lexer": "ipython2",
   "version": "2.7.10"
  }
 },
 "nbformat": 4,
 "nbformat_minor": 0
}
