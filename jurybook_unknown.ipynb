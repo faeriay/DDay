{
 "cells": [
  {
   "cell_type": "markdown",
   "metadata": {},
   "source": [
    "# 找出判決書的判決類型"
   ]
  },
  {
   "cell_type": "code",
   "execution_count": 28,
   "metadata": {
    "collapsed": false
   },
   "outputs": [
    {
     "name": "stdout",
     "output_type": "stream",
     "text": [
      "保護 1\n",
      "反訴 1\n",
      "命令 3\n",
      "判決 43\n",
      "裁定 36\n",
      "調解 6\n"
     ]
    }
   ],
   "source": [
    "import codecs,glob,re,shutil\n",
    "\n",
    "dir_path = u'./jurybook/unknown/*.txt'\n",
    "dic = {}\n",
    "for txtfile in glob.glob(dir_path):\n",
    "    with codecs.open(txtfile,'r','utf-8') as f :\n",
    "        content = f.read() # 不能圖超過 2Mb\n",
    "        f.close() # 在with 中 可不寫,會強制關閉\n",
    "        #print content\n",
    "    try:\n",
    "        m_judge = re.search(u'[  \\d]*(灣|福建|臺灣|台灣|臺彎|褔建)(\\S{4,7})法院(民事|家事|暫時|支付)(\\S{2})',content)\n",
    "        judgetype = m_judge.group(4)\n",
    "        #print judgetype+\"\\t\"+txtfile\n",
    "        filename = re.search(r'([^\\\\/:*?\"<>|\\r\\n]+?)\\.txt',txtfile).group(1)\n",
    "        if judgetype not in dic:\n",
    "            dic[judgetype] = 1\n",
    "        else:\n",
    "            dic[judgetype] = dic[judgetype] +1\n",
    "\n",
    "    except:\n",
    "        pass\n",
    "        #if judgetype == u'判決':\n",
    "            #print txtfile\n",
    "for ele in dic:\n",
    "    print ele,dic[ele]\n",
    "    #if dic[ele]>1:\n",
    "    \n"
   ]
  },
  {
   "cell_type": "markdown",
   "metadata": {},
   "source": [
    "# 複製判決檔案至新資料夾"
   ]
  },
  {
   "cell_type": "code",
   "execution_count": 30,
   "metadata": {
    "collapsed": false
   },
   "outputs": [],
   "source": [
    "dir_path = u'./jurybook/unknown/*.txt'\n",
    "dic = {}\n",
    "for txtfile in glob.glob(dir_path):\n",
    "    with codecs.open(txtfile,'r','utf-8') as f :\n",
    "        \n",
    "        content = f.read() # 不能圖超過 2Mb\n",
    "        f.close() # 在with 中 可不寫,會強制關閉\n",
    "        #print content\n",
    "    try:\n",
    "        m_judge = re.search(u'[  \\d]*(灣|福建|臺灣|台灣|臺彎|褔建)(\\S{4,7})法院(民事|家事|暫時|支付)(\\S{2})',content)\n",
    "        judgetype = m_judge.group(4)\n",
    "        filename = re.search(r'([^\\\\/:*?\"<>|\\r\\n]+?)\\.txt',txtfile).group(1)\n",
    "        if judgetype == u'判決':\n",
    "                shutil.copy(txtfile,'./jurybook/unknown_judge/%s.txt'%(filename))\n",
    "    except:\n",
    "        pass"
   ]
  },
  {
   "cell_type": "markdown",
   "metadata": {},
   "source": [
    "# 先檢驗例外的地方法院"
   ]
  },
  {
   "cell_type": "code",
   "execution_count": 31,
   "metadata": {
    "collapsed": false
   },
   "outputs": [],
   "source": [
    "# -*- utf-8 -*-\n",
    "import os \n",
    "import re\n",
    "import codecs  #強制轉成utf-8\n",
    "import glob\n",
    "dir_path = u'./jurybook/unknown_judge/*.txt'\n",
    "for txtfile in glob.glob(dir_path):\n",
    "    with codecs.open(txtfile,'r','utf-8') as f :\n",
    "        content = f.read() # 不能圖超過 2Mb\n",
    "        f.close() # 在with 中 可不寫,會強制關閉\n",
    "        m_court = re.search(u'[  \\d]*(灣|福建|臺灣)(\\S{4,7})法院(民事|家事|暫時|支付)(\\S{2})',content)\n",
    "        court_no = [u\"臺北地方\",u\"士林地方\",u\"新北地方\",u\"宜蘭地方\",u\"基隆地方\",u\"桃園地方\",u\"新竹地方\",u\"苗栗地方\",u\"臺中地方\",u\"彰化地方\",u\"南投地方\",u\"臺南地方\",u\"高雄地方\",u\"花蓮地方\",u\"雲林地方\",u\"嘉義地方\",u\"臺東地方\",u\"屏東地方\",u\"澎湖地方\",u\"金門地方\",u\"連江地方\",u\"高雄少年及家事\"]\n",
    "        try:\n",
    "            if m_court.group(2) not in court_no:\n",
    "                print \"ExcepCourtNo: \"+m_court.group(2)\n",
    "                print txtfile\n",
    "        except:\n",
    "            #errfile = re.search(u'(.*)/(.*?).txt',txtfile)\n",
    "            print 'errfile: '+txtfile"
   ]
  }
 ],
 "metadata": {
  "kernelspec": {
   "display_name": "Python 2",
   "language": "python",
   "name": "python2"
  },
  "language_info": {
   "codemirror_mode": {
    "name": "ipython",
    "version": 2
   },
   "file_extension": ".py",
   "mimetype": "text/x-python",
   "name": "python",
   "nbconvert_exporter": "python",
   "pygments_lexer": "ipython2",
   "version": "2.7.10"
  }
 },
 "nbformat": 4,
 "nbformat_minor": 0
}
