{
 "cells": [
  {
   "cell_type": "markdown",
   "metadata": {},
   "source": [
    "# Combine fields into one collection"
   ]
  },
  {
   "cell_type": "code",
   "execution_count": 33,
   "metadata": {
    "collapsed": false
   },
   "outputs": [
    {
     "name": "stdout",
     "output_type": "stream",
     "text": [
      "{u'off_lawyer': u'0', u'caregiver': 99, u'de_lawyer': u'0', u'reason': u'意圖殺害,', u'court_case': u'敗訴', u'duration': u'33', u'_id': u'100_100_11_100_1000708', u'children_num': 1, u'custody': 99}\n",
      "{u'off_lawyer': u'1', u'caregiver': 99, u'de_lawyer': u'0', u'reason': u'外遇,精神疾病,', u'court_case': u'勝訴', u'duration': u'28', u'_id': u'100_100_11_102_1010921', u'children_num': 1, u'custody': 99}\n",
      "{u'off_lawyer': u'2', u'caregiver': 99, u'de_lawyer': u'0', u'reason': u'其他原因,', u'court_case': u'勝訴', u'duration': u'12', u'nationality': u'被告為大陸地區,', u'_id': u'100_100_11_116_1001031', u'children_num': 1, u'custody': 99}\n",
      "{u'off_lawyer': u'1', u'caregiver': 99, u'de_lawyer': u'1', u'reason': u'家暴,其他原因,', u'court_case': u'勝訴', u'duration': u'13', u'_id': u'100_100_11_120_1000617', u'children_num': 1, u'custody': 99}\n",
      "{u'off_lawyer': u'0', u'caregiver': 99, u'de_lawyer': u'0', u'reason': u'惡意遺棄,重婚,', u'court_case': u'勝訴', u'duration': u'7', u'_id': u'100_100_11_122_1000923', u'children_num': 1, u'custody': 99}\n"
     ]
    }
   ],
   "source": [
    "import re\n",
    "import glob\n",
    "import codecs\n",
    "import _uniout\n",
    "import pymongo\n",
    "from pymongo import MongoClient\n",
    "#make a connection to mongodb \n",
    "client = pymongo.MongoClient('localhost',27017)\n",
    "db = client.jurydata\n",
    "\n",
    "for i in db.jurydata.find(): #.limit(5)\n",
    "    print _uniout.unescape(str(i),'utf-8')\n",
    "    #print i.keys()[0]+\":\"+i.values()[0],i.keys()[1]+\":\"+i.values()[1]\n",
    "    #add_table = db.jury_combo.update()\n",
    "    #update = db.jury_combo.update({\"_id\":i['_id']},{\"$set\":{\"caregiver\":i['caregiver'],\"custody\":i['custody']}},upsert=False)\n",
    "    #update = db.jury_combo.update({\"_id\":i['_id']},{\"$unset\":{\"children_num\":1}},upsert=False)\n",
    "\n",
    "#查詢特定欄位\n",
    "#print db.jury_combo.find({duration:{$in:[/\\d+/i,\"Wrong\"]}}).count()"
   ]
  },
  {
   "cell_type": "markdown",
   "metadata": {},
   "source": [
    "# Merge the options of reason and Splite to multi-columns "
   ]
  },
  {
   "cell_type": "code",
   "execution_count": 2,
   "metadata": {
    "collapsed": false
   },
   "outputs": [],
   "source": [
    "# -*- utf-8 -*-\n",
    "import re\n",
    "import glob\n",
    "import codecs\n",
    "import _uniout\n",
    "import pymongo\n",
    "from pymongo import MongoClient\n",
    "\n",
    "client = pymongo.MongoClient('localhost',27017)\n",
    "db = client.jurydata\n",
    "\n",
    "for i in db.jurydata.find({},{'_id':1,'reason':1}): #.limit(5)\n",
    "    #print _uniout.unescape(str(i),'utf-8')\n",
    "    dic = {}\n",
    "    if re.search(u'惡意遺棄|失蹤',i['reason']) is not None:\n",
    "        dic.update({'r_disappear':1})\n",
    "    else:\n",
    "        dic.update({'r_disappear':0})\n",
    "    if re.search(u'家暴|意圖殺害',i['reason']) is not None:\n",
    "        dic.update({'r_violence':1})\n",
    "    else:\n",
    "        dic.update({'r_violence':0})\n",
    "    \n",
    "    if re.search(u'外遇|重婚',i['reason']) is not None:\n",
    "        dic.update({'r_affair':1})\n",
    "    else:\n",
    "        dic.update({'r_affair':0})\n",
    "    \n",
    "    if re.search(u'徒刑',i['reason']) is not None:\n",
    "        dic.update({'r_prisoner':1})\n",
    "    else:\n",
    "        dic.update({'r_prisoner':0})\n",
    "    if re.search(u'不治之惡疾|精神疾病',i['reason']) is not None:\n",
    "        dic.update({'r_disorder':1})\n",
    "    else:\n",
    "        dic.update({'r_disorder':0})\n",
    "    if re.search(u'其他原因',i['reason']) is not None:\n",
    "        dic.update({'r_other':1})\n",
    "    else:\n",
    "        dic.update({'r_other':0})\n",
    "    #print _uniout.unescape(str(dic),'utf-8')\n",
    "    #print i['_id']\n",
    "    #print i.keys()[0]+\":\"+i.values()[0],i.keys()[1]+\":\"+i.values()[1]\n",
    "    #add_table = db.jury_combo.update()\n",
    "    update = db.jurydata.update({\"_id\":i['_id']},{\"$set\":dic},upsert=False)\n",
    "    #update = db.jury_combo.update({\"_id\":i['_id']},{\"$unset\":{\"children_num\":1}},upsert=False)\n",
    "#{'$regex':u'意圖殺害'}\n",
    "#查詢特定欄位\n",
    "#print db.jury_combo.find({duration:{$in:[/\\d+/i,\"Wrong\"]}}).count()"
   ]
  },
  {
   "cell_type": "code",
   "execution_count": 6,
   "metadata": {
    "collapsed": false
   },
   "outputs": [
    {
     "name": "stdout",
     "output_type": "stream",
     "text": [
      "{'r_affair': 1, 'r_violence': 0, 'r_other': 0, 'r_prisoner': 0, 'r_disappear': 1, 'r_disorder': 0}\n"
     ]
    }
   ],
   "source": []
  }
 ],
 "metadata": {
  "kernelspec": {
   "display_name": "Python 2",
   "language": "python",
   "name": "python2"
  },
  "language_info": {
   "codemirror_mode": {
    "name": "ipython",
    "version": 2
   },
   "file_extension": ".py",
   "mimetype": "text/x-python",
   "name": "python",
   "nbconvert_exporter": "python",
   "pygments_lexer": "ipython2",
   "version": "2.7.10"
  }
 },
 "nbformat": 4,
 "nbformat_minor": 0
}
